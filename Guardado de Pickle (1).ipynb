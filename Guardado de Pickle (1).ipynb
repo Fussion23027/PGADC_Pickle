{
  "metadata": {
    "language_info": {
      "codemirror_mode": {
        "name": "python",
        "version": 3
      },
      "file_extension": ".py",
      "mimetype": "text/x-python",
      "name": "python",
      "nbconvert_exporter": "python",
      "pygments_lexer": "ipython3",
      "version": "3.8"
    },
    "kernelspec": {
      "name": "python",
      "display_name": "Python (Pyodide)",
      "language": "python"
    }
  },
  "nbformat_minor": 4,
  "nbformat": 4,
  "cells": [
    {
      "cell_type": "markdown",
      "source": "<h1> Guardado con Pickle </h1>",
      "metadata": {}
    },
    {
      "cell_type": "markdown",
      "source": "Mi codigo se centra en la serialización y deserialización de objetos en dos formatos: texto y binario utilizando las funciones y el módulo pickle, el guardado de objectos.",
      "metadata": {}
    },
    {
      "cell_type": "code",
      "source": "import pickle\n\n# Función para serializar en un archivo de texto\ndef guardar_objeto_texto(objeto, nombre_archivo):\n    with open(nombre_archivo, 'w') as archivo:\n        archivo.write(objeto.nombre)\n    print(f'Texto guardado en {nombre_archivo}')\n\n# Funcion para recuperar desde un archivo de texto\ndef cargar_objeto_texto(nombre_archivo):\n    with open(nombre_archivo, 'r') as archivo:\n        nombre = archivo.read()\n    objeto = Datos(nombre)\n    print(f'Objeto cargado desde {nombre_archivo}')\n    return objeto\n\n# Función para serializar y guardar en un archivo binario\ndef guardar_objeto_binario(objeto, nombre_archivo):\n    with open(nombre_archivo, 'wb') as archivo:\n        pickle.dump(objeto, archivo)\n    print(f'Objeto guardado en {nombre_archivo}')\n\n# Función para recuperar y deserializar desde un archivo binario\ndef cargar_objeto_binario(nombre_archivo):\n    with open(nombre_archivo, 'rb') as archivo:\n        objeto = pickle.load(archivo)\n    print(f'Objeto cargado desde {nombre_archivo}')\n    return objeto\n\n#Añadiendo la clase \nclass Datos:\n    def __init__(self, nombre):\n        self.nombre = nombre\n\n# Añanado el Texto para su guardado en text y bin\nobjeto_original = Datos('Hola, Mi nombre es Pedro Gerardo Arellano de la Cruz ')\n\n# Guardar el objeto en un archivo de texto\nnombre_archivo_texto = 'ejemplo_texto.txt'\nguardar_objeto_texto(objeto_original, nombre_archivo_texto)\n\n# Cargar el objeto desde el archivo de texto\nobjeto_recuperado_texto = cargar_objeto_texto(nombre_archivo_texto)\n\n# Guardar el objeto en un archivo binario\nnombre_archivo_binario = 'ejemplo_binario.pickle'\nguardar_objeto_binario(objeto_original, nombre_archivo_binario)\n\n# Cargar el objeto desde el archivo binario\nobjeto_recuperado_binario = cargar_objeto_binario(nombre_archivo_binario)\n\n# Verifico que el objeto recuperado es igual al original\nprint('Objeto original:',  objeto_original.nombre)\n\n# Verifico para el archivo de texto\nprint('Objeto recuperado desde texto:', objeto_recuperado_texto.nombre)\n\n# Verifico para el archivo binario\nprint('Objeto recuperado desde binario:', objeto_recuperado_binario.nombre)\n",
      "metadata": {
        "trusted": true
      },
      "execution_count": 4,
      "outputs": [
        {
          "name": "stdout",
          "text": "Texto guardado en ejemplo_texto.txt\nObjeto cargado desde ejemplo_texto.txt\nObjeto guardado en ejemplo_binario.pickle\nObjeto cargado desde ejemplo_binario.pickle\nObjeto original: Hola, Mi nombre es Pedro Gerardo Arellano de la Cruz \nObjeto recuperado desde texto: Hola, Mi nombre es Pedro Gerardo Arellano de la Cruz \nObjeto recuperado desde binario: Hola, Mi nombre es Pedro Gerardo Arellano de la Cruz \n",
          "output_type": "stream"
        }
      ]
    }
  ]
}